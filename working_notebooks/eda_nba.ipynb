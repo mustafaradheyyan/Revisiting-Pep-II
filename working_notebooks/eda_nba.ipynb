{
 "cells": [
  {
   "attachments": {},
   "cell_type": "markdown",
   "metadata": {},
   "source": [
    "## Dataset Notes"
   ]
  },
  {
   "attachments": {},
   "cell_type": "markdown",
   "metadata": {},
   "source": [
    "common_player_info\n",
    "\n",
    "draft_combine_stats\n",
    "\n",
    "draft_history\n",
    "\n",
    "game\n",
    "\n",
    "game_info\n",
    "\n",
    "game_summary\n",
    "\n",
    "inactive_players\n",
    "\n",
    "line_score\n",
    "\n",
    "officials\n",
    "\n",
    "other_stats\n",
    "\n",
    "play_by_play\n",
    "\n",
    "player\n",
    "\n",
    "team\n",
    "\n",
    "team_details\n",
    "\n",
    "team_history\n",
    "\n",
    "team_info_common"
   ]
  },
  {
   "attachments": {},
   "cell_type": "markdown",
   "metadata": {},
   "source": [
    "Join the greatest 75 players from the *common_player_info* table with the *draft_combine_stats* table using the __player-id__ attribute, in order to compare various statistics like height, weight and speed with the average values of the players not among the greatest 75. - NOT GOING TO WORK"
   ]
  },
  {
   "attachments": {},
   "cell_type": "markdown",
   "metadata": {},
   "source": [
    "In *play_by_play* table, change values of \"TIE\" in __scoremargin__ attribute to 0 or zero. - DONE"
   ]
  },
  {
   "attachments": {},
   "cell_type": "markdown",
   "metadata": {},
   "source": [
    "team_info_common useless table - DONE"
   ]
  },
  {
   "attachments": {},
   "cell_type": "markdown",
   "metadata": {},
   "source": [
    "team_history until 2019"
   ]
  },
  {
   "attachments": {},
   "cell_type": "markdown",
   "metadata": {},
   "source": [
    "team_details table can be compared with team_history table and team table"
   ]
  },
  {
   "attachments": {},
   "cell_type": "markdown",
   "metadata": {},
   "source": [
    "player table has 4815 rows"
   ]
  },
  {
   "attachments": {},
   "cell_type": "markdown",
   "metadata": {},
   "source": [
    "play_by_play table, keep period, scoremargin and video_available_flag - DONE"
   ]
  },
  {
   "attachments": {},
   "cell_type": "markdown",
   "metadata": {},
   "source": [
    "other_stats table can be analyzed on its own"
   ]
  },
  {
   "attachments": {},
   "cell_type": "markdown",
   "metadata": {},
   "source": [
    "officials table useless table - DONE"
   ]
  },
  {
   "attachments": {},
   "cell_type": "markdown",
   "metadata": {},
   "source": [
    "line_score table can be analyzed on its own, maybe with other_stats table"
   ]
  },
  {
   "attachments": {},
   "cell_type": "markdown",
   "metadata": {},
   "source": [
    "inactive_players can be joined with common_player_info and analyzed"
   ]
  },
  {
   "attachments": {},
   "cell_type": "markdown",
   "metadata": {},
   "source": [
    "game_summary useless table on its own, can be combined with game_info table to analyze attendance of games and by team name"
   ]
  },
  {
   "attachments": {},
   "cell_type": "markdown",
   "metadata": {},
   "source": [
    "game table can be analyzed for various stats"
   ]
  },
  {
   "attachments": {},
   "cell_type": "markdown",
   "metadata": {},
   "source": [
    "draft_history table is from 1959-1989, can compare various player stats with their overall_pick in the draft\n",
    "\n",
    "maybe compare player_profile_flag with overall_pick"
   ]
  },
  {
   "attachments": {},
   "cell_type": "markdown",
   "metadata": {},
   "source": [
    "draft_combine_stats is only for the 2022 season, maybe can compare height and weight of players, as well as position"
   ]
  },
  {
   "attachments": {},
   "cell_type": "markdown",
   "metadata": {},
   "source": [
    "common_player_info, can compare countries and schools, with height and weight, and position\n",
    "\n",
    "can compare years active as well"
   ]
  },
  {
   "attachments": {},
   "cell_type": "markdown",
   "metadata": {},
   "source": [
    "## Imports"
   ]
  },
  {
   "cell_type": "code",
   "execution_count": 1,
   "metadata": {},
   "outputs": [],
   "source": [
    "import pandas as pd"
   ]
  },
  {
   "attachments": {},
   "cell_type": "markdown",
   "metadata": {},
   "source": [
    "## NBA GAME ANALYSIS AND VISUALIZATIONS"
   ]
  },
  {
   "attachments": {},
   "cell_type": "markdown",
   "metadata": {},
   "source": [
    "CSV file created using the results of the following SQL statement:\n",
    "\n",
    "**select game_id, period, scoremargin, video_available_flag, wl_home FROM play_by_play join game using(game_id);**"
   ]
  },
  {
   "cell_type": "code",
   "execution_count": null,
   "metadata": {},
   "outputs": [],
   "source": [
    "NBA_GAME_STATS_FILE = 'nba_game_stats.csv'"
   ]
  },
  {
   "cell_type": "code",
   "execution_count": null,
   "metadata": {},
   "outputs": [],
   "source": [
    "play_by_play = pd.read_csv(NBA_GAME_STATS_FILE, index_col=\"game_id\", dtype={'game_id': 'string'})\n",
    "play_by_play"
   ]
  },
  {
   "cell_type": "code",
   "execution_count": null,
   "metadata": {},
   "outputs": [],
   "source": [
    "play_by_play = play_by_play.dropna(subset='scoremargin')"
   ]
  },
  {
   "cell_type": "code",
   "execution_count": null,
   "metadata": {},
   "outputs": [],
   "source": [
    "play_by_play"
   ]
  },
  {
   "cell_type": "code",
   "execution_count": null,
   "metadata": {},
   "outputs": [],
   "source": [
    "play_by_play.columns"
   ]
  },
  {
   "cell_type": "code",
   "execution_count": null,
   "metadata": {},
   "outputs": [],
   "source": [
    "nba_df_copy = play_by_play.copy()"
   ]
  },
  {
   "cell_type": "code",
   "execution_count": null,
   "metadata": {},
   "outputs": [],
   "source": [
    "nba_df_copy"
   ]
  },
  {
   "cell_type": "code",
   "execution_count": null,
   "metadata": {},
   "outputs": [],
   "source": [
    "score_margin = nba_df_copy['scoremargin'].copy()"
   ]
  },
  {
   "cell_type": "code",
   "execution_count": null,
   "metadata": {},
   "outputs": [],
   "source": [
    "score_margin = score_margin.replace({'TIE': 0})\n",
    "score_margin"
   ]
  },
  {
   "cell_type": "code",
   "execution_count": null,
   "metadata": {},
   "outputs": [],
   "source": [
    "nba_df_copy['scoremargin'] = score_margin"
   ]
  },
  {
   "cell_type": "code",
   "execution_count": null,
   "metadata": {},
   "outputs": [],
   "source": [
    "nba_df_copy"
   ]
  },
  {
   "cell_type": "code",
   "execution_count": null,
   "metadata": {},
   "outputs": [],
   "source": [
    "nba_df_copy = nba_df_copy.astype({'scoremargin': 'int64'})"
   ]
  },
  {
   "cell_type": "code",
   "execution_count": null,
   "metadata": {},
   "outputs": [],
   "source": [
    "nba_df_copy = nba_df_copy.convert_dtypes()"
   ]
  },
  {
   "cell_type": "code",
   "execution_count": null,
   "metadata": {},
   "outputs": [],
   "source": [
    "nba_df_copy.dtypes"
   ]
  },
  {
   "cell_type": "code",
   "execution_count": null,
   "metadata": {},
   "outputs": [],
   "source": [
    "(nba_df_copy\n",
    "    .groupby('video_available_flag')\n",
    "    .mean(numeric_only=True)\n",
    "    .rename(index={0: 'No', 1: 'Yes'})\n",
    "    .plot\n",
    "    .bar(title=\"Average Period and Score Margin Vs Video Available\", rot=1)\n",
    ");"
   ]
  },
  {
   "attachments": {},
   "cell_type": "markdown",
   "metadata": {},
   "source": [
    "From this histogram, a prediction can be made that home teams (positive values) win NBA games more often than visitor teams (negative values)"
   ]
  },
  {
   "cell_type": "code",
   "execution_count": null,
   "metadata": {},
   "outputs": [],
   "source": [
    "nba_df_copy[['scoremargin']].plot.hist()"
   ]
  },
  {
   "attachments": {},
   "cell_type": "markdown",
   "metadata": {},
   "source": [
    "Now only using the 8th period (the maximum, or last, period), a prediction can be made that visitor teams (negative values) win NBA games more often than home teams (positive values)"
   ]
  },
  {
   "cell_type": "code",
   "execution_count": null,
   "metadata": {},
   "outputs": [],
   "source": [
    "(nba_df_copy\n",
    ".loc[\n",
    "    nba_df_copy['period'] == nba_df_copy['period'].max()\n",
    "    ]\n",
    "[['scoremargin']]\n",
    ".plot.hist())"
   ]
  },
  {
   "attachments": {},
   "cell_type": "markdown",
   "metadata": {},
   "source": [
    "In conclusion, it appears that home teams often have a higher score margin throughout the duration of the game. However, visitor teams often have a larger score margin during the last period (8) of games. Therefore, it can be predicted that visitor teams win games more often than home teams because their score margin is oftentimes higher during the last period of the game."
   ]
  },
  {
   "attachments": {},
   "cell_type": "markdown",
   "metadata": {},
   "source": [
    "A caveat of this prediction, though, is that the number of score margin values during the 8th period is only 83, much less than during other periods of the game, so it is more likely that home teams win games more often than visitor teams."
   ]
  },
  {
   "cell_type": "code",
   "execution_count": null,
   "metadata": {},
   "outputs": [],
   "source": [
    "nba_df_copy['period'].value_counts()"
   ]
  },
  {
   "attachments": {},
   "cell_type": "markdown",
   "metadata": {},
   "source": [
    "Examining the 4th period, which has a lot more data points than the 8th period, we can see that indeed the score margin for the home teams is greater than that of the visitor teams."
   ]
  },
  {
   "cell_type": "code",
   "execution_count": null,
   "metadata": {},
   "outputs": [],
   "source": [
    "nba_df_copy.loc[nba_df_copy['period'] == 4][['scoremargin']].plot.hist()"
   ]
  },
  {
   "attachments": {},
   "cell_type": "markdown",
   "metadata": {},
   "source": [
    "The assumption has been that the more often that a team has a higher score margin, then the more likely it is that they are winning more often.\n",
    "\n",
    "However, this is simply an assumption and is not based on evidence. Therefore, we will compare scoremargin with win/loss records to see if there is validity to the above claim."
   ]
  },
  {
   "cell_type": "code",
   "execution_count": null,
   "metadata": {},
   "outputs": [],
   "source": [
    "nba_df_wl = nba_df_copy.copy()\n",
    "nba_df_wl = (\n",
    "    nba_df_wl[['wl_home']]\n",
    "    .reset_index()\n",
    "    .drop_duplicates(subset=['game_id'])\n",
    "    .sort_values('game_id')\n",
    "    .set_index('game_id')\n",
    "    )\n",
    "nba_df_wl"
   ]
  },
  {
   "cell_type": "code",
   "execution_count": null,
   "metadata": {},
   "outputs": [],
   "source": [
    "nba_scoremargin_wl = (\n",
    "    nba_df_wl\n",
    "    .join(nba_df_copy\n",
    "          .reset_index()\n",
    "          [['game_id', 'scoremargin', 'wl_home']]\n",
    "          .groupby('game_id')\n",
    "          .mean(numeric_only=True)\n",
    "          )\n",
    "    )"
   ]
  },
  {
   "cell_type": "code",
   "execution_count": null,
   "metadata": {},
   "outputs": [],
   "source": [
    "nba_scoremargin_wl"
   ]
  },
  {
   "cell_type": "code",
   "execution_count": null,
   "metadata": {},
   "outputs": [],
   "source": [
    "nba_scoremargin_wl = nba_scoremargin_wl.astype({'scoremargin': 'string'})\n",
    "nba_scoremargin_wl.dtypes"
   ]
  },
  {
   "cell_type": "code",
   "execution_count": null,
   "metadata": {},
   "outputs": [],
   "source": [
    "nba_scoremargin_wl['scoremargin'] = (\n",
    "    nba_scoremargin_wl['scoremargin']\n",
    "    .mask(nba_scoremargin_wl['scoremargin']\n",
    "          .astype(float) < 0, 'L')\n",
    "    .mask(nba_scoremargin_wl['scoremargin']\n",
    "          .astype(float) > 0, 'W')\n",
    "    )\n",
    "nba_scoremargin_wl"
   ]
  },
  {
   "cell_type": "code",
   "execution_count": null,
   "metadata": {},
   "outputs": [],
   "source": [
    "nba_scoremargin_wl['scoremargin'].unique()"
   ]
  },
  {
   "cell_type": "code",
   "execution_count": null,
   "metadata": {},
   "outputs": [],
   "source": [
    "nba_scoremargin_wl.loc[nba_scoremargin_wl['scoremargin'] == '0.0']"
   ]
  },
  {
   "cell_type": "code",
   "execution_count": null,
   "metadata": {},
   "outputs": [],
   "source": [
    "nba_scoremargin_wl['wl_home'].unique()"
   ]
  },
  {
   "cell_type": "code",
   "execution_count": null,
   "metadata": {},
   "outputs": [],
   "source": [
    "nba_scoremargin_wl = nba_scoremargin_wl.dropna(subset='wl_home')"
   ]
  },
  {
   "cell_type": "code",
   "execution_count": null,
   "metadata": {},
   "outputs": [],
   "source": [
    "nba_scoremargin_wl.loc[nba_scoremargin_wl['wl_home'].isna()]"
   ]
  },
  {
   "cell_type": "code",
   "execution_count": null,
   "metadata": {},
   "outputs": [],
   "source": [
    "print(f\"{round((\n",
    "    len(nba_scoremargin_wl.loc[nba_scoremargin_wl['scoremargin'] != nba_scoremargin_wl['wl_home']])\n",
    "    / len(nba_scoremargin_wl)) * 100)}%\\\n",
    " of the time, the result of a game is not equal to the average recorded score margin for the respective side.\")"
   ]
  },
  {
   "cell_type": "code",
   "execution_count": null,
   "metadata": {},
   "outputs": [],
   "source": [
    "print(f\"Home teams have won \\\n",
    "      {round((\n",
    "          len(nba_scoremargin_wl.loc[nba_scoremargin_wl['wl_home'] == 'W'])\n",
    "          / len(nba_scoremargin_wl)) * 100)}% of the time.\")\n",
    "\n",
    "print(f\"Home teams have had an average score margin advantage \\\n",
    "      {round((len(nba_scoremargin_wl.loc[nba_scoremargin_wl['scoremargin'] == 'W'])\n",
    "      / len(nba_scoremargin_wl)) * 100)}% of the time.\")"
   ]
  },
  {
   "attachments": {},
   "cell_type": "markdown",
   "metadata": {},
   "source": [
    "## NBA PLAYER ANALYSIS AND VISUALIZATIONS"
   ]
  },
  {
   "attachments": {},
   "cell_type": "markdown",
   "metadata": {},
   "source": [
    "CSV file created using the results of the following SQL statement:\n",
    "\n",
    "**select height, weight, from_year, to_year, display_first_last, game_id**\n",
    "\n",
    "**from common_player_info cpi join inactive_players ip on cpi.person_id = ip.player_id;**"
   ]
  },
  {
   "cell_type": "code",
   "execution_count": 2,
   "metadata": {},
   "outputs": [],
   "source": [
    "NBA_PLAYER_STATS_FILE = 'nba_player_stats.csv'"
   ]
  },
  {
   "cell_type": "code",
   "execution_count": 6,
   "metadata": {},
   "outputs": [
    {
     "data": {
      "text/html": [
       "<div>\n",
       "<style scoped>\n",
       "    .dataframe tbody tr th:only-of-type {\n",
       "        vertical-align: middle;\n",
       "    }\n",
       "\n",
       "    .dataframe tbody tr th {\n",
       "        vertical-align: top;\n",
       "    }\n",
       "\n",
       "    .dataframe thead th {\n",
       "        text-align: right;\n",
       "    }\n",
       "</style>\n",
       "<table border=\"1\" class=\"dataframe\">\n",
       "  <thead>\n",
       "    <tr style=\"text-align: right;\">\n",
       "      <th></th>\n",
       "      <th>height</th>\n",
       "      <th>weight</th>\n",
       "      <th>from_year</th>\n",
       "      <th>to_year</th>\n",
       "      <th>display_first_last</th>\n",
       "      <th>game_id</th>\n",
       "    </tr>\n",
       "    <tr>\n",
       "      <th>player_id</th>\n",
       "      <th></th>\n",
       "      <th></th>\n",
       "      <th></th>\n",
       "      <th></th>\n",
       "      <th></th>\n",
       "      <th></th>\n",
       "    </tr>\n",
       "  </thead>\n",
       "  <tbody>\n",
       "    <tr>\n",
       "      <th>203518</th>\n",
       "      <td>6-6</td>\n",
       "      <td>200.0</td>\n",
       "      <td>2016.0</td>\n",
       "      <td>2018.0</td>\n",
       "      <td>Alex Abrines</td>\n",
       "      <td>0021600740</td>\n",
       "    </tr>\n",
       "    <tr>\n",
       "      <th>203518</th>\n",
       "      <td>6-6</td>\n",
       "      <td>200.0</td>\n",
       "      <td>2016.0</td>\n",
       "      <td>2018.0</td>\n",
       "      <td>Alex Abrines</td>\n",
       "      <td>0021600750</td>\n",
       "    </tr>\n",
       "    <tr>\n",
       "      <th>203518</th>\n",
       "      <td>6-6</td>\n",
       "      <td>200.0</td>\n",
       "      <td>2016.0</td>\n",
       "      <td>2018.0</td>\n",
       "      <td>Alex Abrines</td>\n",
       "      <td>0021601167</td>\n",
       "    </tr>\n",
       "    <tr>\n",
       "      <th>203518</th>\n",
       "      <td>6-6</td>\n",
       "      <td>200.0</td>\n",
       "      <td>2016.0</td>\n",
       "      <td>2018.0</td>\n",
       "      <td>Alex Abrines</td>\n",
       "      <td>0021601186</td>\n",
       "    </tr>\n",
       "    <tr>\n",
       "      <th>203518</th>\n",
       "      <td>6-6</td>\n",
       "      <td>200.0</td>\n",
       "      <td>2016.0</td>\n",
       "      <td>2018.0</td>\n",
       "      <td>Alex Abrines</td>\n",
       "      <td>0021601198</td>\n",
       "    </tr>\n",
       "    <tr>\n",
       "      <th>...</th>\n",
       "      <td>...</td>\n",
       "      <td>...</td>\n",
       "      <td>...</td>\n",
       "      <td>...</td>\n",
       "      <td>...</td>\n",
       "      <td>...</td>\n",
       "    </tr>\n",
       "    <tr>\n",
       "      <th>1627826</th>\n",
       "      <td>7-0</td>\n",
       "      <td>240.0</td>\n",
       "      <td>2016.0</td>\n",
       "      <td>2022.0</td>\n",
       "      <td>Ivica Zubac</td>\n",
       "      <td>0022200427</td>\n",
       "    </tr>\n",
       "    <tr>\n",
       "      <th>1627826</th>\n",
       "      <td>7-0</td>\n",
       "      <td>240.0</td>\n",
       "      <td>2016.0</td>\n",
       "      <td>2022.0</td>\n",
       "      <td>Ivica Zubac</td>\n",
       "      <td>0022200438</td>\n",
       "    </tr>\n",
       "    <tr>\n",
       "      <th>1627826</th>\n",
       "      <td>7-0</td>\n",
       "      <td>240.0</td>\n",
       "      <td>2016.0</td>\n",
       "      <td>2022.0</td>\n",
       "      <td>Ivica Zubac</td>\n",
       "      <td>0022200902</td>\n",
       "    </tr>\n",
       "    <tr>\n",
       "      <th>1627826</th>\n",
       "      <td>7-0</td>\n",
       "      <td>240.0</td>\n",
       "      <td>2016.0</td>\n",
       "      <td>2022.0</td>\n",
       "      <td>Ivica Zubac</td>\n",
       "      <td>0022200918</td>\n",
       "    </tr>\n",
       "    <tr>\n",
       "      <th>1627826</th>\n",
       "      <td>7-0</td>\n",
       "      <td>240.0</td>\n",
       "      <td>2016.0</td>\n",
       "      <td>2022.0</td>\n",
       "      <td>Ivica Zubac</td>\n",
       "      <td>0022200945</td>\n",
       "    </tr>\n",
       "  </tbody>\n",
       "</table>\n",
       "<p>26897 rows × 6 columns</p>\n",
       "</div>"
      ],
      "text/plain": [
       "          height  weight  from_year  to_year display_first_last     game_id\n",
       "player_id                                                                  \n",
       "203518       6-6   200.0     2016.0   2018.0       Alex Abrines  0021600740\n",
       "203518       6-6   200.0     2016.0   2018.0       Alex Abrines  0021600750\n",
       "203518       6-6   200.0     2016.0   2018.0       Alex Abrines  0021601167\n",
       "203518       6-6   200.0     2016.0   2018.0       Alex Abrines  0021601186\n",
       "203518       6-6   200.0     2016.0   2018.0       Alex Abrines  0021601198\n",
       "...          ...     ...        ...      ...                ...         ...\n",
       "1627826      7-0   240.0     2016.0   2022.0        Ivica Zubac  0022200427\n",
       "1627826      7-0   240.0     2016.0   2022.0        Ivica Zubac  0022200438\n",
       "1627826      7-0   240.0     2016.0   2022.0        Ivica Zubac  0022200902\n",
       "1627826      7-0   240.0     2016.0   2022.0        Ivica Zubac  0022200918\n",
       "1627826      7-0   240.0     2016.0   2022.0        Ivica Zubac  0022200945\n",
       "\n",
       "[26897 rows x 6 columns]"
      ]
     },
     "execution_count": 6,
     "metadata": {},
     "output_type": "execute_result"
    }
   ],
   "source": [
    "player_stats = pd.read_csv(\n",
    "    NBA_PLAYER_STATS_FILE,\n",
    "    index_col=\"player_id\",\n",
    "    dtype={'game_id': 'string', 'player_id': 'string'}\n",
    "    )\n",
    "player_stats"
   ]
  },
  {
   "cell_type": "code",
   "execution_count": 14,
   "metadata": {},
   "outputs": [
    {
     "data": {
      "text/html": [
       "<div>\n",
       "<style scoped>\n",
       "    .dataframe tbody tr th:only-of-type {\n",
       "        vertical-align: middle;\n",
       "    }\n",
       "\n",
       "    .dataframe tbody tr th {\n",
       "        vertical-align: top;\n",
       "    }\n",
       "\n",
       "    .dataframe thead th {\n",
       "        text-align: right;\n",
       "    }\n",
       "</style>\n",
       "<table border=\"1\" class=\"dataframe\">\n",
       "  <thead>\n",
       "    <tr style=\"text-align: right;\">\n",
       "      <th></th>\n",
       "      <th>display_first_last</th>\n",
       "    </tr>\n",
       "    <tr>\n",
       "      <th>player_id</th>\n",
       "      <th></th>\n",
       "    </tr>\n",
       "  </thead>\n",
       "  <tbody>\n",
       "    <tr>\n",
       "      <th>203518</th>\n",
       "      <td>Alex Abrines</td>\n",
       "    </tr>\n",
       "    <tr>\n",
       "      <th>1630173</th>\n",
       "      <td>Precious Achiuwa</td>\n",
       "    </tr>\n",
       "    <tr>\n",
       "      <th>203112</th>\n",
       "      <td>Quincy Acy</td>\n",
       "    </tr>\n",
       "    <tr>\n",
       "      <th>1629121</th>\n",
       "      <td>Jaylen Adams</td>\n",
       "    </tr>\n",
       "    <tr>\n",
       "      <th>203500</th>\n",
       "      <td>Steven Adams</td>\n",
       "    </tr>\n",
       "    <tr>\n",
       "      <th>...</th>\n",
       "      <td>...</td>\n",
       "    </tr>\n",
       "    <tr>\n",
       "      <th>203469</th>\n",
       "      <td>Cody Zeller</td>\n",
       "    </tr>\n",
       "    <tr>\n",
       "      <th>678</th>\n",
       "      <td>George Zidek</td>\n",
       "    </tr>\n",
       "    <tr>\n",
       "      <th>1627757</th>\n",
       "      <td>Stephen Zimmerman</td>\n",
       "    </tr>\n",
       "    <tr>\n",
       "      <th>1627835</th>\n",
       "      <td>Paul Zipser</td>\n",
       "    </tr>\n",
       "    <tr>\n",
       "      <th>1627826</th>\n",
       "      <td>Ivica Zubac</td>\n",
       "    </tr>\n",
       "  </tbody>\n",
       "</table>\n",
       "<p>534 rows × 1 columns</p>\n",
       "</div>"
      ],
      "text/plain": [
       "          display_first_last\n",
       "player_id                   \n",
       "203518          Alex Abrines\n",
       "1630173     Precious Achiuwa\n",
       "203112            Quincy Acy\n",
       "1629121         Jaylen Adams\n",
       "203500          Steven Adams\n",
       "...                      ...\n",
       "203469           Cody Zeller\n",
       "678             George Zidek\n",
       "1627757    Stephen Zimmerman\n",
       "1627835          Paul Zipser\n",
       "1627826          Ivica Zubac\n",
       "\n",
       "[534 rows x 1 columns]"
      ]
     },
     "execution_count": 14,
     "metadata": {},
     "output_type": "execute_result"
    }
   ],
   "source": [
    "player_name_separate = player_stats.copy()\n",
    "player_name_separate = (\n",
    "    player_name_separate[['display_first_last']]\n",
    "                        .reset_index()\n",
    "                        .drop_duplicates(subset=['player_id'])\n",
    "                        .set_index('player_id')\n",
    "                        )\n",
    "player_name_separate"
   ]
  },
  {
   "cell_type": "code",
   "execution_count": 21,
   "metadata": {},
   "outputs": [
    {
     "data": {
      "text/html": [
       "<div>\n",
       "<style scoped>\n",
       "    .dataframe tbody tr th:only-of-type {\n",
       "        vertical-align: middle;\n",
       "    }\n",
       "\n",
       "    .dataframe tbody tr th {\n",
       "        vertical-align: top;\n",
       "    }\n",
       "\n",
       "    .dataframe thead th {\n",
       "        text-align: right;\n",
       "    }\n",
       "</style>\n",
       "<table border=\"1\" class=\"dataframe\">\n",
       "  <thead>\n",
       "    <tr style=\"text-align: right;\">\n",
       "      <th></th>\n",
       "      <th>display_first_last</th>\n",
       "      <th>Number of games played</th>\n",
       "    </tr>\n",
       "    <tr>\n",
       "      <th>player_id</th>\n",
       "      <th></th>\n",
       "      <th></th>\n",
       "    </tr>\n",
       "  </thead>\n",
       "  <tbody>\n",
       "    <tr>\n",
       "      <th>202322</th>\n",
       "      <td>John Wall</td>\n",
       "      <td>279</td>\n",
       "    </tr>\n",
       "    <tr>\n",
       "      <th>2760</th>\n",
       "      <td>Anderson Varejao</td>\n",
       "      <td>260</td>\n",
       "    </tr>\n",
       "    <tr>\n",
       "      <th>202347</th>\n",
       "      <td>Quincy Pondexter</td>\n",
       "      <td>239</td>\n",
       "    </tr>\n",
       "    <tr>\n",
       "      <th>2397</th>\n",
       "      <td>Yao Ming</td>\n",
       "      <td>239</td>\n",
       "    </tr>\n",
       "    <tr>\n",
       "      <th>689</th>\n",
       "      <td>Theo Ratliff</td>\n",
       "      <td>223</td>\n",
       "    </tr>\n",
       "    <tr>\n",
       "      <th>...</th>\n",
       "      <td>...</td>\n",
       "      <td>...</td>\n",
       "    </tr>\n",
       "    <tr>\n",
       "      <th>42</th>\n",
       "      <td>Monty Williams</td>\n",
       "      <td>1</td>\n",
       "    </tr>\n",
       "    <tr>\n",
       "      <th>1629341</th>\n",
       "      <td>Tarik Phillip</td>\n",
       "      <td>1</td>\n",
       "    </tr>\n",
       "    <tr>\n",
       "      <th>281</th>\n",
       "      <td>Scott Williams</td>\n",
       "      <td>1</td>\n",
       "    </tr>\n",
       "    <tr>\n",
       "      <th>672</th>\n",
       "      <td>Matt Bullard</td>\n",
       "      <td>1</td>\n",
       "    </tr>\n",
       "    <tr>\n",
       "      <th>1630787</th>\n",
       "      <td>Cameron McGriff</td>\n",
       "      <td>1</td>\n",
       "    </tr>\n",
       "  </tbody>\n",
       "</table>\n",
       "<p>534 rows × 2 columns</p>\n",
       "</div>"
      ],
      "text/plain": [
       "          display_first_last  Number of games played\n",
       "player_id                                           \n",
       "202322             John Wall                     279\n",
       "2760        Anderson Varejao                     260\n",
       "202347      Quincy Pondexter                     239\n",
       "2397                Yao Ming                     239\n",
       "689             Theo Ratliff                     223\n",
       "...                      ...                     ...\n",
       "42            Monty Williams                       1\n",
       "1629341        Tarik Phillip                       1\n",
       "281           Scott Williams                       1\n",
       "672             Matt Bullard                       1\n",
       "1630787      Cameron McGriff                       1\n",
       "\n",
       "[534 rows x 2 columns]"
      ]
     },
     "execution_count": 21,
     "metadata": {},
     "output_type": "execute_result"
    }
   ],
   "source": [
    "(player_name_separate\n",
    " .join(player_stats[['game_id', 'display_first_last']]\n",
    "       .reset_index()\n",
    "       .groupby('player_id')\n",
    "       .size()\n",
    "       .to_frame('Number of games played'))\n",
    " .sort_values('Number of games played', ascending=False)\n",
    ")"
   ]
  },
  {
   "cell_type": "code",
   "execution_count": 37,
   "metadata": {},
   "outputs": [
    {
     "data": {
      "image/png": "[encoded data removed]",
      "text/plain": [
       "<Figure size 1000x500 with 1 Axes>"
      ]
     },
     "metadata": {},
     "output_type": "display_data"
    }
   ],
   "source": [
    "(player_name_separate\n",
    " .join(player_stats[['game_id', 'display_first_last']]\n",
    "       .reset_index()\n",
    "       .groupby('player_id')\n",
    "       .size()\n",
    "       .to_frame('Number of games played'))\n",
    " .nlargest(10, 'Number of games played')\n",
    ").plot.bar(x='display_first_last', rot=45, figsize=(10,5), xlabel=\"Name\", ylabel=\"Number of games played\",\n",
    "           title=\"Total number of games played by inactive players\".title(), legend=False);"
   ]
  },
  {
   "attachments": {},
   "cell_type": "markdown",
   "metadata": {},
   "source": [
    "## NBA TEAM ANALYSIS AND VISUALIZATIONS"
   ]
  },
  {
   "attachments": {},
   "cell_type": "markdown",
   "metadata": {},
   "source": [
    "CSV file created using the results of the following SQL statement:\n",
    "\n",
    "**select th.city, th.nickname, (th.city || ' ' || th.nickname) as \"full_name\", th.year_founded, year_active_till, arena, arenacapacity**\n",
    "\n",
    "**from team t join team_history th on t.id = th.team_id left join team_details td**\n",
    "\n",
    "**on (th.city || ' ' || th.nickname) = (td.city || ' ' || td.nickname);**"
   ]
  },
  {
   "cell_type": "code",
   "execution_count": 38,
   "metadata": {},
   "outputs": [],
   "source": [
    "NBA_TEAM_STATS_FILE = 'nba_team_stats.csv'"
   ]
  },
  {
   "cell_type": "code",
   "execution_count": 42,
   "metadata": {},
   "outputs": [
    {
     "data": {
      "text/html": [
       "<div>\n",
       "<style scoped>\n",
       "    .dataframe tbody tr th:only-of-type {\n",
       "        vertical-align: middle;\n",
       "    }\n",
       "\n",
       "    .dataframe tbody tr th {\n",
       "        vertical-align: top;\n",
       "    }\n",
       "\n",
       "    .dataframe thead th {\n",
       "        text-align: right;\n",
       "    }\n",
       "</style>\n",
       "<table border=\"1\" class=\"dataframe\">\n",
       "  <thead>\n",
       "    <tr style=\"text-align: right;\">\n",
       "      <th></th>\n",
       "      <th>city</th>\n",
       "      <th>nickname</th>\n",
       "      <th>full_name</th>\n",
       "      <th>year_founded</th>\n",
       "      <th>year_active_till</th>\n",
       "      <th>arena</th>\n",
       "      <th>arenacapacity</th>\n",
       "    </tr>\n",
       "  </thead>\n",
       "  <tbody>\n",
       "    <tr>\n",
       "      <th>13</th>\n",
       "      <td>Philadelphia</td>\n",
       "      <td>Warriors</td>\n",
       "      <td>Philadelphia Warriors</td>\n",
       "      <td>1946</td>\n",
       "      <td>1961</td>\n",
       "      <td>NaN</td>\n",
       "      <td>NaN</td>\n",
       "    </tr>\n",
       "    <tr>\n",
       "      <th>4</th>\n",
       "      <td>Boston</td>\n",
       "      <td>Celtics</td>\n",
       "      <td>Boston Celtics</td>\n",
       "      <td>1946</td>\n",
       "      <td>2019</td>\n",
       "      <td>TD Garden</td>\n",
       "      <td>18624.0</td>\n",
       "    </tr>\n",
       "    <tr>\n",
       "      <th>27</th>\n",
       "      <td>Ft. Wayne Zollner</td>\n",
       "      <td>Pistons</td>\n",
       "      <td>Ft. Wayne Zollner Pistons</td>\n",
       "      <td>1948</td>\n",
       "      <td>1956</td>\n",
       "      <td>NaN</td>\n",
       "      <td>NaN</td>\n",
       "    </tr>\n",
       "    <tr>\n",
       "      <th>3</th>\n",
       "      <td>Tri-Cities</td>\n",
       "      <td>Blackhawks</td>\n",
       "      <td>Tri-Cities Blackhawks</td>\n",
       "      <td>1949</td>\n",
       "      <td>1950</td>\n",
       "      <td>NaN</td>\n",
       "      <td>NaN</td>\n",
       "    </tr>\n",
       "    <tr>\n",
       "      <th>1</th>\n",
       "      <td>Milwaukee</td>\n",
       "      <td>Hawks</td>\n",
       "      <td>Milwaukee Hawks</td>\n",
       "      <td>1951</td>\n",
       "      <td>1954</td>\n",
       "      <td>NaN</td>\n",
       "      <td>NaN</td>\n",
       "    </tr>\n",
       "    <tr>\n",
       "      <th>2</th>\n",
       "      <td>St. Louis</td>\n",
       "      <td>Hawks</td>\n",
       "      <td>St. Louis Hawks</td>\n",
       "      <td>1955</td>\n",
       "      <td>1967</td>\n",
       "      <td>NaN</td>\n",
       "      <td>NaN</td>\n",
       "    </tr>\n",
       "    <tr>\n",
       "      <th>26</th>\n",
       "      <td>Detroit</td>\n",
       "      <td>Pistons</td>\n",
       "      <td>Detroit Pistons</td>\n",
       "      <td>1957</td>\n",
       "      <td>2019</td>\n",
       "      <td>Little Caesars Arena</td>\n",
       "      <td>NaN</td>\n",
       "    </tr>\n",
       "    <tr>\n",
       "      <th>14</th>\n",
       "      <td>San Francisco</td>\n",
       "      <td>Warriors</td>\n",
       "      <td>San Francisco Warriors</td>\n",
       "      <td>1962</td>\n",
       "      <td>1970</td>\n",
       "      <td>NaN</td>\n",
       "      <td>NaN</td>\n",
       "    </tr>\n",
       "    <tr>\n",
       "      <th>9</th>\n",
       "      <td>Chicago</td>\n",
       "      <td>Bulls</td>\n",
       "      <td>Chicago Bulls</td>\n",
       "      <td>1966</td>\n",
       "      <td>2019</td>\n",
       "      <td>United Center</td>\n",
       "      <td>21711.0</td>\n",
       "    </tr>\n",
       "    <tr>\n",
       "      <th>0</th>\n",
       "      <td>Atlanta</td>\n",
       "      <td>Hawks</td>\n",
       "      <td>Atlanta Hawks</td>\n",
       "      <td>1968</td>\n",
       "      <td>2019</td>\n",
       "      <td>State Farm Arena</td>\n",
       "      <td>18729.0</td>\n",
       "    </tr>\n",
       "    <tr>\n",
       "      <th>15</th>\n",
       "      <td>Buffalo</td>\n",
       "      <td>Braves</td>\n",
       "      <td>Buffalo Braves</td>\n",
       "      <td>1970</td>\n",
       "      <td>1977</td>\n",
       "      <td>NaN</td>\n",
       "      <td>NaN</td>\n",
       "    </tr>\n",
       "    <tr>\n",
       "      <th>20</th>\n",
       "      <td>Portland</td>\n",
       "      <td>Trail Blazers</td>\n",
       "      <td>Portland Trail Blazers</td>\n",
       "      <td>1970</td>\n",
       "      <td>2019</td>\n",
       "      <td>Moda Center</td>\n",
       "      <td>19980.0</td>\n",
       "    </tr>\n",
       "    <tr>\n",
       "      <th>12</th>\n",
       "      <td>Golden State</td>\n",
       "      <td>Warriors</td>\n",
       "      <td>Golden State Warriors</td>\n",
       "      <td>1971</td>\n",
       "      <td>2019</td>\n",
       "      <td>Chase Center</td>\n",
       "      <td>NaN</td>\n",
       "    </tr>\n",
       "    <tr>\n",
       "      <th>22</th>\n",
       "      <td>New Orleans</td>\n",
       "      <td>Jazz</td>\n",
       "      <td>New Orleans Jazz</td>\n",
       "      <td>1974</td>\n",
       "      <td>1978</td>\n",
       "      <td>NaN</td>\n",
       "      <td>NaN</td>\n",
       "    </tr>\n",
       "    <tr>\n",
       "      <th>11</th>\n",
       "      <td>Denver</td>\n",
       "      <td>Nuggets</td>\n",
       "      <td>Denver Nuggets</td>\n",
       "      <td>1976</td>\n",
       "      <td>2019</td>\n",
       "      <td>Ball Arena</td>\n",
       "      <td>NaN</td>\n",
       "    </tr>\n",
       "    <tr>\n",
       "      <th>19</th>\n",
       "      <td>Indiana</td>\n",
       "      <td>Pacers</td>\n",
       "      <td>Indiana Pacers</td>\n",
       "      <td>1976</td>\n",
       "      <td>2019</td>\n",
       "      <td>Gainbridge Fieldhouse</td>\n",
       "      <td>18345.0</td>\n",
       "    </tr>\n",
       "    <tr>\n",
       "      <th>17</th>\n",
       "      <td>San Diego</td>\n",
       "      <td>Clippers</td>\n",
       "      <td>San Diego Clippers</td>\n",
       "      <td>1978</td>\n",
       "      <td>1983</td>\n",
       "      <td>NaN</td>\n",
       "      <td>NaN</td>\n",
       "    </tr>\n",
       "    <tr>\n",
       "      <th>23</th>\n",
       "      <td>Utah</td>\n",
       "      <td>Jazz</td>\n",
       "      <td>Utah Jazz</td>\n",
       "      <td>1979</td>\n",
       "      <td>2019</td>\n",
       "      <td>Vivint Arena</td>\n",
       "      <td>NaN</td>\n",
       "    </tr>\n",
       "    <tr>\n",
       "      <th>10</th>\n",
       "      <td>Dallas</td>\n",
       "      <td>Mavericks</td>\n",
       "      <td>Dallas Mavericks</td>\n",
       "      <td>1980</td>\n",
       "      <td>2019</td>\n",
       "      <td>American Airlines Center</td>\n",
       "      <td>19200.0</td>\n",
       "    </tr>\n",
       "    <tr>\n",
       "      <th>16</th>\n",
       "      <td>Los Angeles</td>\n",
       "      <td>Clippers</td>\n",
       "      <td>Los Angeles Clippers</td>\n",
       "      <td>1984</td>\n",
       "      <td>2019</td>\n",
       "      <td>Crypto.com Arena</td>\n",
       "      <td>19060.0</td>\n",
       "    </tr>\n",
       "    <tr>\n",
       "      <th>18</th>\n",
       "      <td>Miami</td>\n",
       "      <td>Heat</td>\n",
       "      <td>Miami Heat</td>\n",
       "      <td>1988</td>\n",
       "      <td>2019</td>\n",
       "      <td>Kaseya Center</td>\n",
       "      <td>19600.0</td>\n",
       "    </tr>\n",
       "    <tr>\n",
       "      <th>21</th>\n",
       "      <td>Toronto</td>\n",
       "      <td>Raptors</td>\n",
       "      <td>Toronto Raptors</td>\n",
       "      <td>1995</td>\n",
       "      <td>2019</td>\n",
       "      <td>Scotiabank Arena</td>\n",
       "      <td>NaN</td>\n",
       "    </tr>\n",
       "    <tr>\n",
       "      <th>25</th>\n",
       "      <td>Vancouver</td>\n",
       "      <td>Grizzlies</td>\n",
       "      <td>Vancouver Grizzlies</td>\n",
       "      <td>1995</td>\n",
       "      <td>2000</td>\n",
       "      <td>NaN</td>\n",
       "      <td>NaN</td>\n",
       "    </tr>\n",
       "    <tr>\n",
       "      <th>24</th>\n",
       "      <td>Memphis</td>\n",
       "      <td>Grizzlies</td>\n",
       "      <td>Memphis Grizzlies</td>\n",
       "      <td>2001</td>\n",
       "      <td>2019</td>\n",
       "      <td>FedExForum</td>\n",
       "      <td>18119.0</td>\n",
       "    </tr>\n",
       "    <tr>\n",
       "      <th>5</th>\n",
       "      <td>New Orleans</td>\n",
       "      <td>Hornets</td>\n",
       "      <td>New Orleans Hornets</td>\n",
       "      <td>2002</td>\n",
       "      <td>2004</td>\n",
       "      <td>NaN</td>\n",
       "      <td>NaN</td>\n",
       "    </tr>\n",
       "    <tr>\n",
       "      <th>8</th>\n",
       "      <td>New Orleans/Oklahoma City</td>\n",
       "      <td>Hornets</td>\n",
       "      <td>New Orleans/Oklahoma City Hornets</td>\n",
       "      <td>2005</td>\n",
       "      <td>2006</td>\n",
       "      <td>NaN</td>\n",
       "      <td>NaN</td>\n",
       "    </tr>\n",
       "    <tr>\n",
       "      <th>6</th>\n",
       "      <td>New Orleans</td>\n",
       "      <td>Hornets</td>\n",
       "      <td>New Orleans Hornets</td>\n",
       "      <td>2007</td>\n",
       "      <td>2012</td>\n",
       "      <td>NaN</td>\n",
       "      <td>NaN</td>\n",
       "    </tr>\n",
       "    <tr>\n",
       "      <th>7</th>\n",
       "      <td>New Orleans</td>\n",
       "      <td>Pelicans</td>\n",
       "      <td>New Orleans Pelicans</td>\n",
       "      <td>2013</td>\n",
       "      <td>2019</td>\n",
       "      <td>Smoothie King Center</td>\n",
       "      <td>NaN</td>\n",
       "    </tr>\n",
       "  </tbody>\n",
       "</table>\n",
       "</div>"
      ],
      "text/plain": [
       "                         city       nickname   \n",
       "13               Philadelphia       Warriors  \\\n",
       "4                      Boston        Celtics   \n",
       "27          Ft. Wayne Zollner        Pistons   \n",
       "3                  Tri-Cities     Blackhawks   \n",
       "1                   Milwaukee          Hawks   \n",
       "2                   St. Louis          Hawks   \n",
       "26                    Detroit        Pistons   \n",
       "14              San Francisco       Warriors   \n",
       "9                     Chicago          Bulls   \n",
       "0                     Atlanta          Hawks   \n",
       "15                    Buffalo         Braves   \n",
       "20                   Portland  Trail Blazers   \n",
       "12               Golden State       Warriors   \n",
       "22                New Orleans           Jazz   \n",
       "11                     Denver        Nuggets   \n",
       "19                    Indiana         Pacers   \n",
       "17                  San Diego       Clippers   \n",
       "23                       Utah           Jazz   \n",
       "10                     Dallas      Mavericks   \n",
       "16                Los Angeles       Clippers   \n",
       "18                      Miami           Heat   \n",
       "21                    Toronto        Raptors   \n",
       "25                  Vancouver      Grizzlies   \n",
       "24                    Memphis      Grizzlies   \n",
       "5                 New Orleans        Hornets   \n",
       "8   New Orleans/Oklahoma City        Hornets   \n",
       "6                 New Orleans        Hornets   \n",
       "7                 New Orleans       Pelicans   \n",
       "\n",
       "                            full_name  year_founded  year_active_till   \n",
       "13              Philadelphia Warriors          1946              1961  \\\n",
       "4                      Boston Celtics          1946              2019   \n",
       "27          Ft. Wayne Zollner Pistons          1948              1956   \n",
       "3               Tri-Cities Blackhawks          1949              1950   \n",
       "1                     Milwaukee Hawks          1951              1954   \n",
       "2                     St. Louis Hawks          1955              1967   \n",
       "26                    Detroit Pistons          1957              2019   \n",
       "14             San Francisco Warriors          1962              1970   \n",
       "9                       Chicago Bulls          1966              2019   \n",
       "0                       Atlanta Hawks          1968              2019   \n",
       "15                     Buffalo Braves          1970              1977   \n",
       "20             Portland Trail Blazers          1970              2019   \n",
       "12              Golden State Warriors          1971              2019   \n",
       "22                   New Orleans Jazz          1974              1978   \n",
       "11                     Denver Nuggets          1976              2019   \n",
       "19                     Indiana Pacers          1976              2019   \n",
       "17                 San Diego Clippers          1978              1983   \n",
       "23                          Utah Jazz          1979              2019   \n",
       "10                   Dallas Mavericks          1980              2019   \n",
       "16               Los Angeles Clippers          1984              2019   \n",
       "18                         Miami Heat          1988              2019   \n",
       "21                    Toronto Raptors          1995              2019   \n",
       "25                Vancouver Grizzlies          1995              2000   \n",
       "24                  Memphis Grizzlies          2001              2019   \n",
       "5                 New Orleans Hornets          2002              2004   \n",
       "8   New Orleans/Oklahoma City Hornets          2005              2006   \n",
       "6                 New Orleans Hornets          2007              2012   \n",
       "7                New Orleans Pelicans          2013              2019   \n",
       "\n",
       "                       arena  arenacapacity  \n",
       "13                       NaN            NaN  \n",
       "4                  TD Garden        18624.0  \n",
       "27                       NaN            NaN  \n",
       "3                        NaN            NaN  \n",
       "1                        NaN            NaN  \n",
       "2                        NaN            NaN  \n",
       "26      Little Caesars Arena            NaN  \n",
       "14                       NaN            NaN  \n",
       "9              United Center        21711.0  \n",
       "0           State Farm Arena        18729.0  \n",
       "15                       NaN            NaN  \n",
       "20               Moda Center        19980.0  \n",
       "12              Chase Center            NaN  \n",
       "22                       NaN            NaN  \n",
       "11                Ball Arena            NaN  \n",
       "19    Gainbridge Fieldhouse         18345.0  \n",
       "17                       NaN            NaN  \n",
       "23              Vivint Arena            NaN  \n",
       "10  American Airlines Center        19200.0  \n",
       "16          Crypto.com Arena        19060.0  \n",
       "18             Kaseya Center        19600.0  \n",
       "21          Scotiabank Arena            NaN  \n",
       "25                       NaN            NaN  \n",
       "24                FedExForum        18119.0  \n",
       "5                        NaN            NaN  \n",
       "8                        NaN            NaN  \n",
       "6                        NaN            NaN  \n",
       "7       Smoothie King Center            NaN  "
      ]
     },
     "execution_count": 42,
     "metadata": {},
     "output_type": "execute_result"
    }
   ],
   "source": [
    "team_stats = pd.read_csv(NBA_TEAM_STATS_FILE)\n",
    "team_stats.sort_values('year_founded')"
   ]
  },
  {
   "cell_type": "code",
   "execution_count": null,
   "metadata": {},
   "outputs": [],
   "source": []
  }
 ],
 "metadata": {
  "kernelspec": {
   "display_name": "base",
   "language": "python",
   "name": "python3"
  },
  "language_info": {
   "codemirror_mode": {
    "name": "ipython",
    "version": 3
   },
   "file_extension": ".py",
   "mimetype": "text/x-python",
   "name": "python",
   "nbconvert_exporter": "python",
   "pygments_lexer": "ipython3",
   "version": "3.11.3"
  },
  "orig_nbformat": 4
 },
 "nbformat": 4,
 "nbformat_minor": 2
}
